{
 "cells": [
  {
   "cell_type": "code",
   "execution_count": 1,
   "metadata": {},
   "outputs": [
    {
     "name": "stdout",
     "output_type": "stream",
     "text": [
      "Processed folder: age_0_9\n",
      "Processed folder: age_100_109\n",
      "Processed folder: age_10_19\n",
      "Processed folder: age_110_119\n",
      "Processed folder: age_20_29\n",
      "Processed folder: age_30_39\n",
      "Processed folder: age_40_49\n",
      "Processed folder: age_50_59\n",
      "Processed folder: age_60_69\n",
      "Processed folder: age_70_79\n",
      "Processed folder: age_80_89\n",
      "Processed folder: age_90_99\n"
     ]
    }
   ],
   "source": [
    "import os\n",
    "import shutil\n",
    "from pathlib import Path\n",
    "from sklearn.model_selection import train_test_split\n",
    "\n",
    "# ===== PARÁMETROS =====\n",
    "DATASET_PATH = Path(\"dataset_rangos_10\")  # Carpeta original\n",
    "OUTPUT_PATH = Path(\"dataset_rangos_10_split\")  # Carpeta destino\n",
    "SPLIT_RATIOS = {'train': 0.7, 'valid': 0.2, 'test': 0.1}  # Porcentajes de división\n",
    "\n",
    "# Crear las carpetas de salida\n",
    "for split in SPLIT_RATIOS.keys():\n",
    "    (OUTPUT_PATH / split).mkdir(parents=True, exist_ok=True)\n",
    "\n",
    "# ===== DIVISIÓN =====\n",
    "for age_folder in DATASET_PATH.iterdir():\n",
    "    if not age_folder.is_dir():\n",
    "        continue  # Saltar si no es una carpeta\n",
    "    \n",
    "    # Listar las imágenes en la carpeta actual\n",
    "    images = list(age_folder.glob(\"*.jpg\"))\n",
    "    if not images:\n",
    "        print(f\"No images found in {age_folder}\")\n",
    "        continue\n",
    "    \n",
    "    # Dividir imágenes en train, valid y test\n",
    "    train_imgs, temp_imgs = train_test_split(images, test_size=1-SPLIT_RATIOS['train'], random_state=42)\n",
    "    valid_imgs, test_imgs = train_test_split(temp_imgs, test_size=SPLIT_RATIOS['test']/(SPLIT_RATIOS['valid']+SPLIT_RATIOS['test']), random_state=42)\n",
    "\n",
    "    # Copiar las imágenes a las carpetas correspondientes\n",
    "    for split, split_imgs in zip(['train', 'valid', 'test'], [train_imgs, valid_imgs, test_imgs]):\n",
    "        split_folder = OUTPUT_PATH / split / age_folder.name\n",
    "        split_folder.mkdir(parents=True, exist_ok=True)\n",
    "        for img in split_imgs:\n",
    "            shutil.copy2(img, split_folder / img.name)\n",
    "\n",
    "    print(f\"Processed folder: {age_folder.name}\")\n"
   ]
  },
  {
   "cell_type": "code",
   "execution_count": null,
   "metadata": {},
   "outputs": [],
   "source": []
  }
 ],
 "metadata": {
  "kernelspec": {
   "display_name": "TFM",
   "language": "python",
   "name": "python3"
  },
  "language_info": {
   "codemirror_mode": {
    "name": "ipython",
    "version": 3
   },
   "file_extension": ".py",
   "mimetype": "text/x-python",
   "name": "python",
   "nbconvert_exporter": "python",
   "pygments_lexer": "ipython3",
   "version": "3.10.16"
  }
 },
 "nbformat": 4,
 "nbformat_minor": 2
}
